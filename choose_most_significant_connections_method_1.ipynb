{
 "cells": [
  {
   "cell_type": "code",
   "execution_count": 16,
   "metadata": {},
   "outputs": [],
   "source": [
    "import numpy as np\n",
    "import pandas as pd\n",
    "import pickle"
   ]
  },
  {
   "cell_type": "code",
   "execution_count": 24,
   "metadata": {},
   "outputs": [
    {
     "data": {
      "text/html": [
       "<div>\n",
       "<style scoped>\n",
       "    .dataframe tbody tr th:only-of-type {\n",
       "        vertical-align: middle;\n",
       "    }\n",
       "\n",
       "    .dataframe tbody tr th {\n",
       "        vertical-align: top;\n",
       "    }\n",
       "\n",
       "    .dataframe thead th {\n",
       "        text-align: right;\n",
       "    }\n",
       "</style>\n",
       "<table border=\"1\" class=\"dataframe\">\n",
       "  <thead>\n",
       "    <tr style=\"text-align: right;\">\n",
       "      <th></th>\n",
       "      <th>index</th>\n",
       "      <th>name</th>\n",
       "    </tr>\n",
       "  </thead>\n",
       "  <tbody>\n",
       "    <tr>\n",
       "      <th>0</th>\n",
       "      <td>2001</td>\n",
       "      <td>Precentral_L</td>\n",
       "    </tr>\n",
       "    <tr>\n",
       "      <th>1</th>\n",
       "      <td>2002</td>\n",
       "      <td>Precentral_R</td>\n",
       "    </tr>\n",
       "    <tr>\n",
       "      <th>2</th>\n",
       "      <td>2101</td>\n",
       "      <td>Frontal_Sup_L</td>\n",
       "    </tr>\n",
       "    <tr>\n",
       "      <th>3</th>\n",
       "      <td>2102</td>\n",
       "      <td>Frontal_Sup_R</td>\n",
       "    </tr>\n",
       "    <tr>\n",
       "      <th>4</th>\n",
       "      <td>2111</td>\n",
       "      <td>Frontal_Sup_Orb_L</td>\n",
       "    </tr>\n",
       "    <tr>\n",
       "      <th>...</th>\n",
       "      <td>...</td>\n",
       "      <td>...</td>\n",
       "    </tr>\n",
       "    <tr>\n",
       "      <th>111</th>\n",
       "      <td>9130</td>\n",
       "      <td>Vermis_6</td>\n",
       "    </tr>\n",
       "    <tr>\n",
       "      <th>112</th>\n",
       "      <td>9140</td>\n",
       "      <td>Vermis_7</td>\n",
       "    </tr>\n",
       "    <tr>\n",
       "      <th>113</th>\n",
       "      <td>9150</td>\n",
       "      <td>Vermis_8</td>\n",
       "    </tr>\n",
       "    <tr>\n",
       "      <th>114</th>\n",
       "      <td>9160</td>\n",
       "      <td>Vermis_9</td>\n",
       "    </tr>\n",
       "    <tr>\n",
       "      <th>115</th>\n",
       "      <td>9170</td>\n",
       "      <td>Vermis_10</td>\n",
       "    </tr>\n",
       "  </tbody>\n",
       "</table>\n",
       "<p>116 rows × 2 columns</p>\n",
       "</div>"
      ],
      "text/plain": [
       "     index               name\n",
       "0     2001       Precentral_L\n",
       "1     2002       Precentral_R\n",
       "2     2101      Frontal_Sup_L\n",
       "3     2102      Frontal_Sup_R\n",
       "4     2111  Frontal_Sup_Orb_L\n",
       "..     ...                ...\n",
       "111   9130           Vermis_6\n",
       "112   9140           Vermis_7\n",
       "113   9150           Vermis_8\n",
       "114   9160           Vermis_9\n",
       "115   9170          Vermis_10\n",
       "\n",
       "[116 rows x 2 columns]"
      ]
     },
     "execution_count": 24,
     "metadata": {},
     "output_type": "execute_result"
    }
   ],
   "source": [
    "df = pd.read_csv('aal_labels.csv',skiprows=2,names=['index','name'])"
   ]
  },
  {
   "cell_type": "code",
   "execution_count": 33,
   "metadata": {},
   "outputs": [],
   "source": [
    "f = open('data_roi_time_series/Outputs/ccs/filt_global/rois_aal/Caltech_0051456_rois_aal.1D','r')\n",
    "temp = [line.split() for line in f]\n",
    "rois = np.array(temp[:1])\n",
    "rois = rois.reshape(-1,1)"
   ]
  },
  {
   "cell_type": "code",
   "execution_count": 57,
   "metadata": {},
   "outputs": [],
   "source": [
    "iq_type = 'VIQ'"
   ]
  },
  {
   "cell_type": "code",
   "execution_count": 58,
   "metadata": {},
   "outputs": [],
   "source": [
    "with open (iq_type.lower()+'_pos_significant', 'rb') as fp:\n",
    "    pos_significant = pickle.load(fp)\n",
    "    \n",
    "with open (iq_type.lower()+'_neg_significant', 'rb') as fp:\n",
    "    neg_significant = pickle.load(fp)\n",
    "    \n",
    "with open (iq_type.lower()+'_pos_pvals', 'rb') as fp:\n",
    "    pos_pvals = pickle.load(fp)\n",
    "    \n",
    "with open (iq_type.lower()+'_neg_pvals', 'rb') as fp:\n",
    "    neg_pvals = pickle.load(fp)"
   ]
  },
  {
   "cell_type": "code",
   "execution_count": 59,
   "metadata": {
    "scrolled": true
   },
   "outputs": [
    {
     "data": {
      "text/plain": [
       "[(0.00013901562812365352, (7, 68)),\n",
       " (0.0001987815861657006, (68, 75)),\n",
       " (0.0006274708428310278, (43, 102)),\n",
       " (0.0010471597177760486, (31, 35)),\n",
       " (0.0011077740811305933, (42, 102)),\n",
       " (0.0011999069413127414, (40, 77)),\n",
       " (0.0014163243672580554, (11, 68)),\n",
       " (0.0014312794026716364, (14, 56)),\n",
       " (0.0015968220305928643, (41, 82)),\n",
       " (0.0016242122205458768, (43, 66)),\n",
       " (0.001770940295198762, (29, 68)),\n",
       " (0.001904265979442028, (5, 106)),\n",
       " (0.0019363765527737875, (27, 102)),\n",
       " (0.0024640261263154887, (13, 69)),\n",
       " (0.0025574065607406175, (13, 68)),\n",
       " (0.002591700775068124, (14, 107)),\n",
       " (0.0027044410114720253, (20, 107)),\n",
       " (0.0027838387160125963, (69, 74)),\n",
       " (0.0028966697485088644, (28, 114)),\n",
       " (0.003190698632403781, (50, 102)),\n",
       " (0.003810349913862286, (73, 82)),\n",
       " (0.0038460991022401065, (16, 82)),\n",
       " (0.003848109593735866, (26, 83)),\n",
       " (0.004063263666856549, (8, 107)),\n",
       " (0.004200066916035124, (42, 89)),\n",
       " (0.005503585093984805, (28, 82)),\n",
       " (0.005554605241285772, (42, 66)),\n",
       " (0.005680251267647017, (69, 75)),\n",
       " (0.005699222885980878, (44, 66)),\n",
       " (0.0057983718712276075, (28, 109)),\n",
       " (0.005884767893380977, (12, 96)),\n",
       " (0.0063279345168238705, (43, 89)),\n",
       " (0.006699482881775508, (30, 35)),\n",
       " (0.006805613481298082, (1, 7)),\n",
       " (0.007105276316186508, (76, 82)),\n",
       " (0.0072341781749877395, (14, 80)),\n",
       " (0.007285859049202019, (28, 77)),\n",
       " (0.0073969724537000904, (28, 35)),\n",
       " (0.007534223843886052, (14, 78)),\n",
       " (0.00753548828692642, (101, 113)),\n",
       " (0.007769725061230885, (26, 29)),\n",
       " (0.007791773668772811, (14, 57)),\n",
       " (0.008132866431136705, (4, 80)),\n",
       " (0.008154373792538602, (64, 98)),\n",
       " (0.008360767803105093, (8, 99)),\n",
       " (0.008853445583673462, (100, 115)),\n",
       " (0.008991991223944841, (1, 8)),\n",
       " (0.009188640253185264, (80, 94))]"
      ]
     },
     "execution_count": 59,
     "metadata": {},
     "output_type": "execute_result"
    }
   ],
   "source": [
    "pos_all = list(zip(pos_pvals,pos_significant))\n",
    "pos_all = sorted(pos_all)"
   ]
  },
  {
   "cell_type": "code",
   "execution_count": 60,
   "metadata": {},
   "outputs": [
    {
     "name": "stdout",
     "output_type": "stream",
     "text": [
      "Frontal_Mid_R Paracentral_Lobule_L\n",
      "Paracentral_Lobule_L Pallidum_R\n",
      "Calcarine_R Cerebelum_8_L\n",
      "Cingulum_Ant_R Cingulum_Post_R\n",
      "Calcarine_L Cerebelum_8_L\n"
     ]
    }
   ],
   "source": [
    "sig = pos_all[:5]\n",
    "for i in sig:\n",
    "    c1 = int(rois[i[1][0]][0][1:])\n",
    "    c2 = int(rois[i[1][1]][0][1:])\n",
    "    name1 = df[df['index']==c1]['name'].values[0]\n",
    "    name2 = df[df['index']==c2]['name'].values[0]\n",
    "    print(name1,name2)"
   ]
  },
  {
   "cell_type": "code",
   "execution_count": 61,
   "metadata": {
    "scrolled": true
   },
   "outputs": [
    {
     "data": {
      "text/plain": [
       "[(0.0002827379818749976, (1, 103)),\n",
       " (0.0005506536653933057, (51, 114)),\n",
       " (0.0011387130255800816, (76, 99)),\n",
       " (0.0012362143156990464, (27, 67)),\n",
       " (0.0019219550277765134, (50, 68)),\n",
       " (0.0020079086425403027, (11, 51)),\n",
       " (0.002092033120394012, (1, 105)),\n",
       " (0.0023590048391585678, (4, 91)),\n",
       " (0.002732702614990377, (105, 108)),\n",
       " (0.0028139441585790168, (26, 67)),\n",
       " (0.0029698822451308233, (20, 67)),\n",
       " (0.003998468317005183, (83, 101)),\n",
       " (0.004604437472882578, (19, 106)),\n",
       " (0.004882853325328293, (107, 112)),\n",
       " (0.005161657567006925, (77, 99)),\n",
       " (0.005505163224772851, (58, 100)),\n",
       " (0.006000876582935972, (19, 103)),\n",
       " (0.006019110623205854, (19, 67)),\n",
       " (0.006060960065852252, (14, 67)),\n",
       " (0.006843974138511395, (27, 34)),\n",
       " (0.007504534277560591, (1, 104)),\n",
       " (0.00766002017838605, (4, 93)),\n",
       " (0.008613909571718564, (71, 112)),\n",
       " (0.008793245791275411, (82, 102)),\n",
       " (0.009010622391992018, (44, 82)),\n",
       " (0.009402286507251608, (24, 26)),\n",
       " (0.0094744849300828, (25, 27)),\n",
       " (0.009890265909684398, (74, 99))]"
      ]
     },
     "execution_count": 61,
     "metadata": {},
     "output_type": "execute_result"
    }
   ],
   "source": [
    "neg_all = list(zip(neg_pvals,neg_significant))\n",
    "neg_all = sorted(neg_all)"
   ]
  },
  {
   "cell_type": "code",
   "execution_count": 62,
   "metadata": {},
   "outputs": [
    {
     "name": "stdout",
     "output_type": "stream",
     "text": [
      "Precentral_R Cerebelum_8_R\n",
      "Occipital_Mid_R Vermis_9\n",
      "Thalamus_L Cerebelum_6_R\n",
      "Rectus_R Precuneus_R\n",
      "Occipital_Mid_L Paracentral_Lobule_L\n"
     ]
    }
   ],
   "source": [
    "sig = neg_all[:5]\n",
    "for i in sig:\n",
    "    c1 = int(rois[i[1][0]][0][1:])\n",
    "    c2 = int(rois[i[1][1]][0][1:])\n",
    "    name1 = df[df['index']==c1]['name'].values[0]\n",
    "    name2 = df[df['index']==c2]['name'].values[0]\n",
    "    print(name1,name2)"
   ]
  },
  {
   "cell_type": "code",
   "execution_count": null,
   "metadata": {},
   "outputs": [],
   "source": []
  }
 ],
 "metadata": {
  "kernelspec": {
   "display_name": "Python 3",
   "language": "python",
   "name": "python3"
  },
  "language_info": {
   "codemirror_mode": {
    "name": "ipython",
    "version": 3
   },
   "file_extension": ".py",
   "mimetype": "text/x-python",
   "name": "python",
   "nbconvert_exporter": "python",
   "pygments_lexer": "ipython3",
   "version": "3.6.2"
  }
 },
 "nbformat": 4,
 "nbformat_minor": 2
}
