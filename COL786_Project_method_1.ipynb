{
 "cells": [
  {
   "cell_type": "code",
   "execution_count": 1,
   "metadata": {},
   "outputs": [],
   "source": [
    "import numpy as np\n",
    "import pandas as pd\n",
    "import os\n",
    "from nilearn.connectome import ConnectivityMeasure\n",
    "import pingouin\n",
    "import matplotlib.pyplot as plt\n",
    "from sklearn import linear_model\n",
    "from sklearn.metrics import mean_squared_error, r2_score\n",
    "from sklearn.model_selection import train_test_split\n",
    "import time\n",
    "import pickle"
   ]
  },
  {
   "cell_type": "code",
   "execution_count": 2,
   "metadata": {},
   "outputs": [
    {
     "data": {
      "text/html": [
       "<div>\n",
       "<style scoped>\n",
       "    .dataframe tbody tr th:only-of-type {\n",
       "        vertical-align: middle;\n",
       "    }\n",
       "\n",
       "    .dataframe tbody tr th {\n",
       "        vertical-align: top;\n",
       "    }\n",
       "\n",
       "    .dataframe thead th {\n",
       "        text-align: right;\n",
       "    }\n",
       "</style>\n",
       "<table border=\"1\" class=\"dataframe\">\n",
       "  <thead>\n",
       "    <tr style=\"text-align: right;\">\n",
       "      <th></th>\n",
       "      <th>Unnamed: 0</th>\n",
       "      <th>Unnamed: 0.1</th>\n",
       "      <th>SUB_ID</th>\n",
       "      <th>X</th>\n",
       "      <th>subject</th>\n",
       "      <th>SITE_ID</th>\n",
       "      <th>FILE_ID</th>\n",
       "      <th>DX_GROUP</th>\n",
       "      <th>DSM_IV_TR</th>\n",
       "      <th>AGE_AT_SCAN</th>\n",
       "      <th>...</th>\n",
       "      <th>qc_notes_rater_1</th>\n",
       "      <th>qc_anat_rater_2</th>\n",
       "      <th>qc_anat_notes_rater_2</th>\n",
       "      <th>qc_func_rater_2</th>\n",
       "      <th>qc_func_notes_rater_2</th>\n",
       "      <th>qc_anat_rater_3</th>\n",
       "      <th>qc_anat_notes_rater_3</th>\n",
       "      <th>qc_func_rater_3</th>\n",
       "      <th>qc_func_notes_rater_3</th>\n",
       "      <th>SUB_IN_SMP</th>\n",
       "    </tr>\n",
       "  </thead>\n",
       "  <tbody>\n",
       "    <tr>\n",
       "      <th>0</th>\n",
       "      <td>0</td>\n",
       "      <td>1</td>\n",
       "      <td>50002</td>\n",
       "      <td>1</td>\n",
       "      <td>50002</td>\n",
       "      <td>PITT</td>\n",
       "      <td>no_filename</td>\n",
       "      <td>1</td>\n",
       "      <td>1</td>\n",
       "      <td>16.77</td>\n",
       "      <td>...</td>\n",
       "      <td>NaN</td>\n",
       "      <td>OK</td>\n",
       "      <td>NaN</td>\n",
       "      <td>fail</td>\n",
       "      <td>ic-parietal-cerebellum</td>\n",
       "      <td>OK</td>\n",
       "      <td>NaN</td>\n",
       "      <td>fail</td>\n",
       "      <td>ERROR #24</td>\n",
       "      <td>1</td>\n",
       "    </tr>\n",
       "    <tr>\n",
       "      <th>1</th>\n",
       "      <td>1</td>\n",
       "      <td>2</td>\n",
       "      <td>50003</td>\n",
       "      <td>2</td>\n",
       "      <td>50003</td>\n",
       "      <td>PITT</td>\n",
       "      <td>Pitt_0050003</td>\n",
       "      <td>1</td>\n",
       "      <td>1</td>\n",
       "      <td>24.45</td>\n",
       "      <td>...</td>\n",
       "      <td>NaN</td>\n",
       "      <td>OK</td>\n",
       "      <td>NaN</td>\n",
       "      <td>OK</td>\n",
       "      <td>NaN</td>\n",
       "      <td>OK</td>\n",
       "      <td>NaN</td>\n",
       "      <td>OK</td>\n",
       "      <td>NaN</td>\n",
       "      <td>1</td>\n",
       "    </tr>\n",
       "    <tr>\n",
       "      <th>2</th>\n",
       "      <td>2</td>\n",
       "      <td>3</td>\n",
       "      <td>50004</td>\n",
       "      <td>3</td>\n",
       "      <td>50004</td>\n",
       "      <td>PITT</td>\n",
       "      <td>Pitt_0050004</td>\n",
       "      <td>1</td>\n",
       "      <td>1</td>\n",
       "      <td>19.09</td>\n",
       "      <td>...</td>\n",
       "      <td>NaN</td>\n",
       "      <td>OK</td>\n",
       "      <td>NaN</td>\n",
       "      <td>OK</td>\n",
       "      <td>NaN</td>\n",
       "      <td>OK</td>\n",
       "      <td>NaN</td>\n",
       "      <td>OK</td>\n",
       "      <td>NaN</td>\n",
       "      <td>1</td>\n",
       "    </tr>\n",
       "    <tr>\n",
       "      <th>3</th>\n",
       "      <td>3</td>\n",
       "      <td>4</td>\n",
       "      <td>50005</td>\n",
       "      <td>4</td>\n",
       "      <td>50005</td>\n",
       "      <td>PITT</td>\n",
       "      <td>Pitt_0050005</td>\n",
       "      <td>1</td>\n",
       "      <td>1</td>\n",
       "      <td>13.73</td>\n",
       "      <td>...</td>\n",
       "      <td>NaN</td>\n",
       "      <td>OK</td>\n",
       "      <td>NaN</td>\n",
       "      <td>maybe</td>\n",
       "      <td>ic-parietal-cerebellum</td>\n",
       "      <td>OK</td>\n",
       "      <td>NaN</td>\n",
       "      <td>OK</td>\n",
       "      <td>NaN</td>\n",
       "      <td>0</td>\n",
       "    </tr>\n",
       "    <tr>\n",
       "      <th>4</th>\n",
       "      <td>4</td>\n",
       "      <td>5</td>\n",
       "      <td>50006</td>\n",
       "      <td>5</td>\n",
       "      <td>50006</td>\n",
       "      <td>PITT</td>\n",
       "      <td>Pitt_0050006</td>\n",
       "      <td>1</td>\n",
       "      <td>1</td>\n",
       "      <td>13.37</td>\n",
       "      <td>...</td>\n",
       "      <td>NaN</td>\n",
       "      <td>OK</td>\n",
       "      <td>NaN</td>\n",
       "      <td>maybe</td>\n",
       "      <td>ic-parietal slight</td>\n",
       "      <td>OK</td>\n",
       "      <td>NaN</td>\n",
       "      <td>OK</td>\n",
       "      <td>NaN</td>\n",
       "      <td>1</td>\n",
       "    </tr>\n",
       "  </tbody>\n",
       "</table>\n",
       "<p>5 rows × 106 columns</p>\n",
       "</div>"
      ],
      "text/plain": [
       "   Unnamed: 0  Unnamed: 0.1  SUB_ID  X  subject SITE_ID       FILE_ID  \\\n",
       "0           0             1   50002  1    50002    PITT   no_filename   \n",
       "1           1             2   50003  2    50003    PITT  Pitt_0050003   \n",
       "2           2             3   50004  3    50004    PITT  Pitt_0050004   \n",
       "3           3             4   50005  4    50005    PITT  Pitt_0050005   \n",
       "4           4             5   50006  5    50006    PITT  Pitt_0050006   \n",
       "\n",
       "   DX_GROUP  DSM_IV_TR  AGE_AT_SCAN  ...  qc_notes_rater_1 qc_anat_rater_2  \\\n",
       "0         1          1        16.77  ...               NaN              OK   \n",
       "1         1          1        24.45  ...               NaN              OK   \n",
       "2         1          1        19.09  ...               NaN              OK   \n",
       "3         1          1        13.73  ...               NaN              OK   \n",
       "4         1          1        13.37  ...               NaN              OK   \n",
       "\n",
       "   qc_anat_notes_rater_2  qc_func_rater_2   qc_func_notes_rater_2  \\\n",
       "0                    NaN             fail  ic-parietal-cerebellum   \n",
       "1                    NaN               OK                     NaN   \n",
       "2                    NaN               OK                     NaN   \n",
       "3                    NaN            maybe  ic-parietal-cerebellum   \n",
       "4                    NaN            maybe      ic-parietal slight   \n",
       "\n",
       "   qc_anat_rater_3 qc_anat_notes_rater_3 qc_func_rater_3  \\\n",
       "0               OK                   NaN            fail   \n",
       "1               OK                   NaN              OK   \n",
       "2               OK                   NaN              OK   \n",
       "3               OK                   NaN              OK   \n",
       "4               OK                   NaN              OK   \n",
       "\n",
       "  qc_func_notes_rater_3  SUB_IN_SMP  \n",
       "0             ERROR #24           1  \n",
       "1                   NaN           1  \n",
       "2                   NaN           1  \n",
       "3                   NaN           0  \n",
       "4                   NaN           1  \n",
       "\n",
       "[5 rows x 106 columns]"
      ]
     },
     "execution_count": 2,
     "metadata": {},
     "output_type": "execute_result"
    }
   ],
   "source": [
    "data = pd.read_csv(\"Phenotypic_V1_0b_preprocessed1.csv\")"
   ]
  },
  {
   "cell_type": "code",
   "execution_count": 3,
   "metadata": {},
   "outputs": [],
   "source": [
    "path = \"data_roi_time_series/Outputs/ccs/filt_global/rois_aal/\"\n",
    "files = os.listdir(path)"
   ]
  },
  {
   "cell_type": "code",
   "execution_count": 103,
   "metadata": {},
   "outputs": [],
   "source": [
    "iq_type = 'VIQ'"
   ]
  },
  {
   "cell_type": "code",
   "execution_count": 104,
   "metadata": {},
   "outputs": [
    {
     "data": {
      "text/plain": [
       "391"
      ]
     },
     "execution_count": 104,
     "metadata": {},
     "output_type": "execute_result"
    }
   ],
   "source": [
    "filenames = []\n",
    "data = data[data['DX_GROUP']==2]\n",
    "num_subjects = len(files)\n",
    "for i in range(num_subjects):\n",
    "    temp = files[i].split('_')\n",
    "    idx = temp.index('rois')\n",
    "    name = '_'.join(temp[:idx])\n",
    "    if name in data['FILE_ID'].values:\n",
    "        df = data[data['FILE_ID']==name]\n",
    "        if not (np.isnan(df[iq_type].values[0])):\n",
    "            if df[iq_type].values[0] != -9999:\n",
    "                filenames.append(name)"
   ]
  },
  {
   "cell_type": "code",
   "execution_count": 105,
   "metadata": {},
   "outputs": [
    {
     "name": "stdout",
     "output_type": "stream",
     "text": [
      "9.290422677993774\n"
     ]
    }
   ],
   "source": [
    "all_subjects = [[]]*len(filenames)\n",
    "i = 0\n",
    "for file in filenames:\n",
    "    f = open(path+file+'_rois_aal.1D','r')\n",
    "    temp = [line.split() for line in f]\n",
    "    all_subjects[i] = np.array(temp[1:]).astype('float64')\n",
    "    i += 1"
   ]
  },
  {
   "cell_type": "code",
   "execution_count": 106,
   "metadata": {},
   "outputs": [],
   "source": [
    "correlation_measure = ConnectivityMeasure(kind='correlation')\n",
    "correlation_matrices = correlation_measure.fit_transform(all_subjects)"
   ]
  },
  {
   "cell_type": "code",
   "execution_count": 108,
   "metadata": {},
   "outputs": [],
   "source": [
    "with open (iq_type.lower()+'_pos_significant', 'rb') as fp:\n",
    "    pos_significant = pickle.load(fp)\n",
    "    \n",
    "with open (iq_type.lower()+'_neg_significant', 'rb') as fp:\n",
    "    neg_significant = pickle.load(fp)"
   ]
  },
  {
   "cell_type": "code",
   "execution_count": 109,
   "metadata": {},
   "outputs": [],
   "source": [
    "pos_score = [0]*len(all_subjects)\n",
    "neg_score = [0]*len(all_subjects)\n",
    "for i in range(len(all_subjects)):\n",
    "    for j in range(len(pos_significant)):\n",
    "        pos_score[i] += correlation_matrices[i,pos_significant[j][0],pos_significant[j][1]]\n",
    "    for j in range(len(neg_significant)):\n",
    "        neg_score[i] += correlation_matrices[i,neg_significant[j][0],neg_significant[j][1]]"
   ]
  },
  {
   "cell_type": "code",
   "execution_count": 110,
   "metadata": {},
   "outputs": [],
   "source": [
    "mod_data = data[data['DX_GROUP']==2]\n",
    "iq_data = mod_data[['FILE_ID','VIQ','FIQ','PIQ']]\n",
    "iq_data = iq_data[iq_data['FILE_ID'].isin(filenames)]"
   ]
  },
  {
   "cell_type": "code",
   "execution_count": 111,
   "metadata": {},
   "outputs": [],
   "source": [
    "iq_data = iq_data[['FILE_ID',iq_type]]\n",
    "iq_data = iq_data.dropna()\n",
    "iq_data = iq_data[iq_data[iq_type] != -9999]\n",
    "iq_data['pos_score'] = np.nan\n",
    "iq_data['neg_score'] = np.nan\n"
   ]
  },
  {
   "cell_type": "code",
   "execution_count": 112,
   "metadata": {},
   "outputs": [],
   "source": [
    "for i in range(len(all_subjects)):\n",
    "    if filenames[i] in iq_data['FILE_ID'].values:\n",
    "        iq_data.loc[iq_data['FILE_ID']==filenames[i],'pos_score'] = pos_score[i]\n",
    "        iq_data.loc[iq_data['FILE_ID']==filenames[i],'neg_score'] = neg_score[i]"
   ]
  },
  {
   "cell_type": "code",
   "execution_count": 113,
   "metadata": {},
   "outputs": [
    {
     "data": {
      "text/plain": [
       "[]"
      ]
     },
     "execution_count": 113,
     "metadata": {},
     "output_type": "execute_result"
    },
    {
     "data": {
      "image/png": "[encoded data removed]",
      "text/plain": [
       "<Figure size 432x288 with 1 Axes>"
      ]
     },
     "metadata": {
      "needs_background": "light"
     },
     "output_type": "display_data"
    }
   ],
   "source": [
    "plt.scatter(iq_data['pos_score'],iq_data[iq_type])\n",
    "plt.xlabel('Functional connectivity score')\n",
    "plt.ylabel(iq_type+' score')\n",
    "plt.show()"
   ]
  },
  {
   "cell_type": "code",
   "execution_count": 114,
   "metadata": {},
   "outputs": [],
   "source": [
    "def model(dataset, iq_type, score_type):\n",
    "    train,test = train_test_split(dataset, test_size=0.2)    \n",
    "    X_train = train[score_type].values\n",
    "    X_train = X_train.reshape(-1,1)\n",
    "    X_test = test[score_type].values\n",
    "    X_test = X_test.reshape(-1,1)\n",
    "    y_train = train[iq_type].values\n",
    "    y_test = test[iq_type].values\n",
    "    reg = linear_model.LinearRegression()\n",
    "    reg.fit(X_train, y_train)\n",
    "    \n",
    "    y_pred = reg.predict(X_test)\n",
    "    c = pingouin.corr(y_test,y_pred)\n",
    "    print('Training Mean squared error: %.2f'% mean_squared_error(y_train, reg.predict(X_train)))\n",
    "    print('Testing Mean squared error: %.2f'% mean_squared_error(y_test, y_pred))\n",
    "    #print('Coefficient of determination: %.2f'% r2_score(y_test, y_pred))\n",
    "    #print(reg.coef_, reg.intercept_)\n",
    "    plt.plot(X_test,y_pred, color='black')\n",
    "    plt.scatter(X_test,y_test)\n",
    "    plt.xlabel('Functional conectivity scores (testing data)')\n",
    "    plt.ylabel('IQ')\n",
    "    plt.legend(['Predicted IQ','Actual IQ'])\n",
    "    plt.show()\n",
    "    plt.scatter(y_test,y_pred)\n",
    "    plt.xlabel('Actual IQ')\n",
    "    plt.ylabel('Predicted IQ')\n",
    "    return c"
   ]
  },
  {
   "cell_type": "code",
   "execution_count": 125,
   "metadata": {},
   "outputs": [
    {
     "name": "stdout",
     "output_type": "stream",
     "text": [
      "Training Mean squared error: 147.56\n",
      "Testing Mean squared error: 120.72\n"
     ]
    },
    {
     "data": {
      "image/png": "[encoded data removed]",
      "text/plain": [
       "<Figure size 432x288 with 1 Axes>"
      ]
     },
     "metadata": {
      "needs_background": "light"
     },
     "output_type": "display_data"
    },
    {
     "data": {
      "image/png": "[encoded data removed]",
      "text/plain": [
       "<Figure size 432x288 with 1 Axes>"
      ]
     },
     "metadata": {
      "needs_background": "light"
     },
     "output_type": "display_data"
    }
   ],
   "source": [
    "c = model(iq_data,iq_type,'neg_score')"
   ]
  },
  {
   "cell_type": "code",
   "execution_count": null,
   "metadata": {},
   "outputs": [],
   "source": []
  }
 ],
 "metadata": {
  "kernelspec": {
   "display_name": "Python 3",
   "language": "python",
   "name": "python3"
  },
  "language_info": {
   "codemirror_mode": {
    "name": "ipython",
    "version": 3
   },
   "file_extension": ".py",
   "mimetype": "text/x-python",
   "name": "python",
   "nbconvert_exporter": "python",
   "pygments_lexer": "ipython3",
   "version": "3.6.2"
  }
 },
 "nbformat": 4,
 "nbformat_minor": 2
}
